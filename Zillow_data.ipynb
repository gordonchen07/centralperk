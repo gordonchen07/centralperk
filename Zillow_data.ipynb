{
 "cells": [
  {
   "cell_type": "markdown",
   "metadata": {},
   "source": [
    "<h2> The following analysis will be for Westchester County </h2>\n",
    "<img src=\"img/counties.png\" width=\"500\" height=\"250\">"
   ]
  },
  {
   "cell_type": "code",
   "execution_count": 99,
   "metadata": {},
   "outputs": [],
   "source": [
    "import pandas as pd\n",
    "import matplotlib.pyplot as plt"
   ]
  },
  {
   "cell_type": "code",
   "execution_count": 26,
   "metadata": {},
   "outputs": [
    {
     "data": {
      "text/html": [
       "<div>\n",
       "<style scoped>\n",
       "    .dataframe tbody tr th:only-of-type {\n",
       "        vertical-align: middle;\n",
       "    }\n",
       "\n",
       "    .dataframe tbody tr th {\n",
       "        vertical-align: top;\n",
       "    }\n",
       "\n",
       "    .dataframe thead th {\n",
       "        text-align: right;\n",
       "    }\n",
       "</style>\n",
       "<table border=\"1\" class=\"dataframe\">\n",
       "  <thead>\n",
       "    <tr style=\"text-align: right;\">\n",
       "      <th></th>\n",
       "      <th>RegionID</th>\n",
       "      <th>SizeRank</th>\n",
       "      <th>RegionName</th>\n",
       "      <th>RegionType</th>\n",
       "      <th>StateName</th>\n",
       "      <th>State</th>\n",
       "      <th>City</th>\n",
       "      <th>Metro</th>\n",
       "      <th>CountyName</th>\n",
       "      <th>1996-01-31</th>\n",
       "      <th>...</th>\n",
       "      <th>2020-01-31</th>\n",
       "      <th>2020-02-29</th>\n",
       "      <th>2020-03-31</th>\n",
       "      <th>2020-04-30</th>\n",
       "      <th>2020-05-31</th>\n",
       "      <th>2020-06-30</th>\n",
       "      <th>2020-07-31</th>\n",
       "      <th>2020-08-31</th>\n",
       "      <th>2020-09-30</th>\n",
       "      <th>2020-10-31</th>\n",
       "    </tr>\n",
       "  </thead>\n",
       "  <tbody>\n",
       "    <tr>\n",
       "      <th>0</th>\n",
       "      <td>61639</td>\n",
       "      <td>0</td>\n",
       "      <td>10025</td>\n",
       "      <td>Zip</td>\n",
       "      <td>NY</td>\n",
       "      <td>NY</td>\n",
       "      <td>New York</td>\n",
       "      <td>New York-Newark-Jersey City</td>\n",
       "      <td>New York County</td>\n",
       "      <td>223469.0</td>\n",
       "      <td>...</td>\n",
       "      <td>1152491.0</td>\n",
       "      <td>1129471.0</td>\n",
       "      <td>1101051.0</td>\n",
       "      <td>1088618.0</td>\n",
       "      <td>1078931.0</td>\n",
       "      <td>1075287.0</td>\n",
       "      <td>1072738.0</td>\n",
       "      <td>1072625.0</td>\n",
       "      <td>1075648.0</td>\n",
       "      <td>1073416.0</td>\n",
       "    </tr>\n",
       "    <tr>\n",
       "      <th>1</th>\n",
       "      <td>84654</td>\n",
       "      <td>1</td>\n",
       "      <td>60657</td>\n",
       "      <td>Zip</td>\n",
       "      <td>IL</td>\n",
       "      <td>IL</td>\n",
       "      <td>Chicago</td>\n",
       "      <td>Chicago-Naperville-Elgin</td>\n",
       "      <td>Cook County</td>\n",
       "      <td>205864.0</td>\n",
       "      <td>...</td>\n",
       "      <td>476938.0</td>\n",
       "      <td>478070.0</td>\n",
       "      <td>479687.0</td>\n",
       "      <td>480848.0</td>\n",
       "      <td>481240.0</td>\n",
       "      <td>481907.0</td>\n",
       "      <td>483484.0</td>\n",
       "      <td>485902.0</td>\n",
       "      <td>489188.0</td>\n",
       "      <td>492585.0</td>\n",
       "    </tr>\n",
       "    <tr>\n",
       "      <th>2</th>\n",
       "      <td>61637</td>\n",
       "      <td>2</td>\n",
       "      <td>10023</td>\n",
       "      <td>Zip</td>\n",
       "      <td>NY</td>\n",
       "      <td>NY</td>\n",
       "      <td>New York</td>\n",
       "      <td>New York-Newark-Jersey City</td>\n",
       "      <td>New York County</td>\n",
       "      <td>227596.0</td>\n",
       "      <td>...</td>\n",
       "      <td>1105727.0</td>\n",
       "      <td>1118319.0</td>\n",
       "      <td>1118234.0</td>\n",
       "      <td>1126375.0</td>\n",
       "      <td>1129930.0</td>\n",
       "      <td>1132927.0</td>\n",
       "      <td>1133142.0</td>\n",
       "      <td>1136998.0</td>\n",
       "      <td>1149940.0</td>\n",
       "      <td>1152889.0</td>\n",
       "    </tr>\n",
       "    <tr>\n",
       "      <th>3</th>\n",
       "      <td>91982</td>\n",
       "      <td>3</td>\n",
       "      <td>77494</td>\n",
       "      <td>Zip</td>\n",
       "      <td>TX</td>\n",
       "      <td>TX</td>\n",
       "      <td>Katy</td>\n",
       "      <td>Houston-The Woodlands-Sugar Land</td>\n",
       "      <td>Harris County</td>\n",
       "      <td>202808.0</td>\n",
       "      <td>...</td>\n",
       "      <td>339589.0</td>\n",
       "      <td>339794.0</td>\n",
       "      <td>340299.0</td>\n",
       "      <td>341466.0</td>\n",
       "      <td>342543.0</td>\n",
       "      <td>343323.0</td>\n",
       "      <td>343861.0</td>\n",
       "      <td>344957.0</td>\n",
       "      <td>346034.0</td>\n",
       "      <td>347871.0</td>\n",
       "    </tr>\n",
       "    <tr>\n",
       "      <th>4</th>\n",
       "      <td>84616</td>\n",
       "      <td>4</td>\n",
       "      <td>60614</td>\n",
       "      <td>Zip</td>\n",
       "      <td>IL</td>\n",
       "      <td>IL</td>\n",
       "      <td>Chicago</td>\n",
       "      <td>Chicago-Naperville-Elgin</td>\n",
       "      <td>Cook County</td>\n",
       "      <td>276752.0</td>\n",
       "      <td>...</td>\n",
       "      <td>619001.0</td>\n",
       "      <td>619244.0</td>\n",
       "      <td>619927.0</td>\n",
       "      <td>619687.0</td>\n",
       "      <td>619649.0</td>\n",
       "      <td>619916.0</td>\n",
       "      <td>621376.0</td>\n",
       "      <td>623279.0</td>\n",
       "      <td>626620.0</td>\n",
       "      <td>629989.0</td>\n",
       "    </tr>\n",
       "  </tbody>\n",
       "</table>\n",
       "<p>5 rows × 307 columns</p>\n",
       "</div>"
      ],
      "text/plain": [
       "   RegionID  SizeRank  RegionName RegionType StateName State      City  \\\n",
       "0     61639         0       10025        Zip        NY    NY  New York   \n",
       "1     84654         1       60657        Zip        IL    IL   Chicago   \n",
       "2     61637         2       10023        Zip        NY    NY  New York   \n",
       "3     91982         3       77494        Zip        TX    TX      Katy   \n",
       "4     84616         4       60614        Zip        IL    IL   Chicago   \n",
       "\n",
       "                              Metro       CountyName  1996-01-31  ...  \\\n",
       "0       New York-Newark-Jersey City  New York County    223469.0  ...   \n",
       "1          Chicago-Naperville-Elgin      Cook County    205864.0  ...   \n",
       "2       New York-Newark-Jersey City  New York County    227596.0  ...   \n",
       "3  Houston-The Woodlands-Sugar Land    Harris County    202808.0  ...   \n",
       "4          Chicago-Naperville-Elgin      Cook County    276752.0  ...   \n",
       "\n",
       "   2020-01-31  2020-02-29  2020-03-31  2020-04-30  2020-05-31  2020-06-30  \\\n",
       "0   1152491.0   1129471.0   1101051.0   1088618.0   1078931.0   1075287.0   \n",
       "1    476938.0    478070.0    479687.0    480848.0    481240.0    481907.0   \n",
       "2   1105727.0   1118319.0   1118234.0   1126375.0   1129930.0   1132927.0   \n",
       "3    339589.0    339794.0    340299.0    341466.0    342543.0    343323.0   \n",
       "4    619001.0    619244.0    619927.0    619687.0    619649.0    619916.0   \n",
       "\n",
       "   2020-07-31  2020-08-31  2020-09-30  2020-10-31  \n",
       "0   1072738.0   1072625.0   1075648.0   1073416.0  \n",
       "1    483484.0    485902.0    489188.0    492585.0  \n",
       "2   1133142.0   1136998.0   1149940.0   1152889.0  \n",
       "3    343861.0    344957.0    346034.0    347871.0  \n",
       "4    621376.0    623279.0    626620.0    629989.0  \n",
       "\n",
       "[5 rows x 307 columns]"
      ]
     },
     "execution_count": 26,
     "metadata": {},
     "output_type": "execute_result"
    }
   ],
   "source": [
    "df = pd.read_csv('Data/Zillow/Zip_zhvi_uc_sfrcondo_tier_0.33_0.67_sm_sa_mon.csv', sep=',')\n",
    "df.head()"
   ]
  },
  {
   "cell_type": "code",
   "execution_count": 35,
   "metadata": {},
   "outputs": [
    {
     "data": {
      "text/plain": [
       "74"
      ]
     },
     "execution_count": 35,
     "metadata": {},
     "output_type": "execute_result"
    }
   ],
   "source": [
    "bestchester = df.loc[df['CountyName'] == 'Westchester County']\n",
    "len(bestchester[\"City\"])"
   ]
  },
  {
   "cell_type": "markdown",
   "metadata": {},
   "source": [
    "<h2> Westchester has 74 'cities'. Lets start with a few... </h2>\n",
    "<img src=\"img/westchester-cities.jpg\" width=\"400\" height=\"515\">"
   ]
  },
  {
   "cell_type": "code",
   "execution_count": 61,
   "metadata": {},
   "outputs": [],
   "source": [
    "relevant_cities = ['New Rochelle', 'White Plains', 'Mount Vernon', 'Larchmont']\n",
    "relevant_data = [ bestchester.loc[bestchester['City'] == city] for city in relevant_cities]"
   ]
  },
  {
   "cell_type": "code",
   "execution_count": 62,
   "metadata": {},
   "outputs": [
    {
     "data": {
      "text/html": [
       "<div>\n",
       "<style scoped>\n",
       "    .dataframe tbody tr th:only-of-type {\n",
       "        vertical-align: middle;\n",
       "    }\n",
       "\n",
       "    .dataframe tbody tr th {\n",
       "        vertical-align: top;\n",
       "    }\n",
       "\n",
       "    .dataframe thead th {\n",
       "        text-align: right;\n",
       "    }\n",
       "</style>\n",
       "<table border=\"1\" class=\"dataframe\">\n",
       "  <thead>\n",
       "    <tr style=\"text-align: right;\">\n",
       "      <th></th>\n",
       "      <th>RegionID</th>\n",
       "      <th>SizeRank</th>\n",
       "      <th>RegionName</th>\n",
       "      <th>RegionType</th>\n",
       "      <th>StateName</th>\n",
       "      <th>State</th>\n",
       "      <th>City</th>\n",
       "      <th>Metro</th>\n",
       "      <th>CountyName</th>\n",
       "      <th>1996-01-31</th>\n",
       "      <th>...</th>\n",
       "      <th>2020-01-31</th>\n",
       "      <th>2020-02-29</th>\n",
       "      <th>2020-03-31</th>\n",
       "      <th>2020-04-30</th>\n",
       "      <th>2020-05-31</th>\n",
       "      <th>2020-06-30</th>\n",
       "      <th>2020-07-31</th>\n",
       "      <th>2020-08-31</th>\n",
       "      <th>2020-09-30</th>\n",
       "      <th>2020-10-31</th>\n",
       "    </tr>\n",
       "  </thead>\n",
       "  <tbody>\n",
       "    <tr>\n",
       "      <th>7209</th>\n",
       "      <td>61847</td>\n",
       "      <td>7295</td>\n",
       "      <td>10538</td>\n",
       "      <td>Zip</td>\n",
       "      <td>NY</td>\n",
       "      <td>NY</td>\n",
       "      <td>Larchmont</td>\n",
       "      <td>New York-Newark-Jersey City</td>\n",
       "      <td>Westchester County</td>\n",
       "      <td>409104.0</td>\n",
       "      <td>...</td>\n",
       "      <td>1119460.0</td>\n",
       "      <td>1121890.0</td>\n",
       "      <td>1123033.0</td>\n",
       "      <td>1126267.0</td>\n",
       "      <td>1128206.0</td>\n",
       "      <td>1133833.0</td>\n",
       "      <td>1142857.0</td>\n",
       "      <td>1152359.0</td>\n",
       "      <td>1161975.0</td>\n",
       "      <td>1174172.0</td>\n",
       "    </tr>\n",
       "  </tbody>\n",
       "</table>\n",
       "<p>1 rows × 307 columns</p>\n",
       "</div>"
      ],
      "text/plain": [
       "      RegionID  SizeRank  RegionName RegionType StateName State       City  \\\n",
       "7209     61847      7295       10538        Zip        NY    NY  Larchmont   \n",
       "\n",
       "                            Metro          CountyName  1996-01-31  ...  \\\n",
       "7209  New York-Newark-Jersey City  Westchester County    409104.0  ...   \n",
       "\n",
       "      2020-01-31  2020-02-29  2020-03-31  2020-04-30  2020-05-31  2020-06-30  \\\n",
       "7209   1119460.0   1121890.0   1123033.0   1126267.0   1128206.0   1133833.0   \n",
       "\n",
       "      2020-07-31  2020-08-31  2020-09-30  2020-10-31  \n",
       "7209   1142857.0   1152359.0   1161975.0   1174172.0  \n",
       "\n",
       "[1 rows x 307 columns]"
      ]
     },
     "execution_count": 62,
     "metadata": {},
     "output_type": "execute_result"
    }
   ],
   "source": [
    "relevant_data[3]"
   ]
  },
  {
   "cell_type": "code",
   "execution_count": 86,
   "metadata": {},
   "outputs": [],
   "source": [
    "larchmont = relevant_data[3]\n",
    "data_start_index = larchmont.columns.get_loc('1996-01-31')"
   ]
  },
  {
   "cell_type": "code",
   "execution_count": 98,
   "metadata": {},
   "outputs": [],
   "source": [
    "prices_over_time = larchmont.iloc[0,data_start_index:]"
   ]
  },
  {
   "cell_type": "code",
   "execution_count": 101,
   "metadata": {},
   "outputs": [
    {
     "data": {
      "image/png": "[encoded data removed]",
      "text/plain": [
       "<Figure size 432x288 with 1 Axes>"
      ]
     },
     "metadata": {
      "needs_background": "light"
     },
     "output_type": "display_data"
    }
   ],
   "source": [
    "plt.plot(prices_over_time)\n",
    "plt.show()"
   ]
  }
 ],
 "metadata": {
  "kernelspec": {
   "display_name": "Python 3",
   "language": "python",
   "name": "python3"
  },
  "language_info": {
   "codemirror_mode": {
    "name": "ipython",
    "version": 3
   },
   "file_extension": ".py",
   "mimetype": "text/x-python",
   "name": "python",
   "nbconvert_exporter": "python",
   "pygments_lexer": "ipython3",
   "version": "3.7.3"
  }
 },
 "nbformat": 4,
 "nbformat_minor": 4
}
